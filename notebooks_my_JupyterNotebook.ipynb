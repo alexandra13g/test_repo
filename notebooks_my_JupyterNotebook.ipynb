{
  "metadata": {
    "language_info": {
      "codemirror_mode": {
        "name": "python",
        "version": 3
      },
      "file_extension": ".py",
      "mimetype": "text/x-python",
      "name": "python",
      "nbconvert_exporter": "python",
      "pygments_lexer": "ipython3",
      "version": "3.8"
    },
    "kernelspec": {
      "name": "python",
      "display_name": "Python (Pyodide)",
      "language": "python"
    }
  },
  "nbformat_minor": 4,
  "nbformat": 4,
  "cells": [
    {
      "cell_type": "markdown",
      "source": "<h1>My Jupyter Notebook on IBM Watson Studio<h1>",
      "metadata": {}
    },
    {
      "cell_type": "markdown",
      "source": "**Marita Alexandra**",
      "metadata": {}
    },
    {
      "cell_type": "markdown",
      "source": "*I am interested in data science because it is a interesting field*\n\n",
      "metadata": {}
    },
    {
      "cell_type": "markdown",
      "source": "<h3>My code calculates a mathematical operation<h3>",
      "metadata": {}
    },
    {
      "cell_type": "code",
      "source": "(23*40)/10",
      "metadata": {
        "trusted": true
      },
      "execution_count": 3,
      "outputs": [
        {
          "execution_count": 3,
          "output_type": "execute_result",
          "data": {
            "text/plain": "92.0"
          },
          "metadata": {}
        }
      ]
    },
    {
      "cell_type": "markdown",
      "source": "|Name|Type|Quantity|\n|----|----|--------|\n|Bannna|fruit|20|\n|Appele|fruit|10|\n|Carrot|vegetable|10\n",
      "metadata": {}
    },
    {
      "cell_type": "markdown",
      "source": "- juice\n - eggs\n  - bread\n \n",
      "metadata": {}
    },
    {
      "cell_type": "markdown",
      "source": "`this is space font`",
      "metadata": {}
    },
    {
      "cell_type": "markdown",
      "source": "__[Wikipedia](https://en.wikipedia.org/wiki/Main_Page)__ ",
      "metadata": {}
    },
    {
      "cell_type": "code",
      "source": "",
      "metadata": {},
      "execution_count": null,
      "outputs": []
    }
  ]
}